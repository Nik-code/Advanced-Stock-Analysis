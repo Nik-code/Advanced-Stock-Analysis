{
 "cells": [
  {
   "metadata": {},
   "cell_type": "markdown",
   "source": "# Stock Price Prediction: Model Training and Evaluation",
   "id": "e171edb6665bf388"
  },
  {
   "metadata": {
    "ExecuteTime": {
     "end_time": "2024-08-22T05:49:27.692160Z",
     "start_time": "2024-08-22T05:49:27.689452Z"
    }
   },
   "cell_type": "code",
   "source": [
    "import pandas as pd\n",
    "import numpy as np\n",
    "from sklearn.model_selection import TimeSeriesSplit\n",
    "from sklearn.preprocessing import StandardScaler\n",
    "from sklearn.metrics import mean_squared_error, mean_absolute_percentage_error\n",
    "import xgboost as xgb\n",
    "from tensorflow.keras.models import Model\n",
    "from tensorflow.keras.layers import Input, LSTM, Dense, Dropout\n",
    "from statsmodels.tsa.arima.model import ARIMA\n",
    "import talib\n",
    "import matplotlib.pyplot as plt\n",
    "from statsmodels.tsa.stattools import adfuller\n",
    "from pmdarima import auto_arima"
   ],
   "id": "ad1199bd82386aa5",
   "outputs": [],
   "execution_count": 139
  },
  {
   "cell_type": "code",
   "id": "initial_id",
   "metadata": {
    "collapsed": true,
    "ExecuteTime": {
     "end_time": "2024-08-22T05:49:28.134343Z",
     "start_time": "2024-08-22T05:49:28.124740Z"
    }
   },
   "source": [
    "# Load the preprocessed data\n",
    "df = pd.read_csv('preprocessed_500033.csv', index_col='Date', parse_dates=True)"
   ],
   "outputs": [],
   "execution_count": 140
  },
  {
   "metadata": {
    "ExecuteTime": {
     "end_time": "2024-08-22T05:49:28.531310Z",
     "start_time": "2024-08-22T05:49:28.528334Z"
    }
   },
   "cell_type": "code",
   "source": [
    "def preprocess_data(df):\n",
    "    # Remove rows with NaN or infinity values\n",
    "    df = df.replace([np.inf, -np.inf], np.nan).dropna()\n",
    "    \n",
    "    # Create technical indicators\n",
    "    df['RSI'] = talib.RSI(df['Close Price'], timeperiod=14)\n",
    "    df['MACD'], df['MACD_signal'], df['MACD_hist'] = talib.MACD(df['Close Price'], fastperiod=12, slowperiod=26, signalperiod=9)\n",
    "    df['upper_band'], df['middle_band'], df['lower_band'] = talib.BBANDS(df['Close Price'], timeperiod=20, nbdevup=2, nbdevdn=2, matype=0)\n",
    "\n",
    "    # Generate lagged features\n",
    "    df['Lag_1_Close'] = df['Close Price'].shift(1)\n",
    "    df['Lag_2_Close'] = df['Close Price'].shift(2)\n",
    "    df['Lag_1_Volume'] = df['No.of Shares'].shift(1)\n",
    "    df['Lag_2_Volume'] = df['No.of Shares'].shift(2)\n",
    "\n",
    "    # Calculate returns\n",
    "    df['Daily_Return'] = df['Close Price'].pct_change()\n",
    "\n",
    "    # Drop NaN values created by the shift operations\n",
    "    df.dropna(inplace=True)\n",
    "\n",
    "    return df"
   ],
   "id": "b89fd36303526c8d",
   "outputs": [],
   "execution_count": 141
  },
  {
   "metadata": {
    "ExecuteTime": {
     "end_time": "2024-08-22T05:49:29.077905Z",
     "start_time": "2024-08-22T05:49:29.072275Z"
    }
   },
   "cell_type": "code",
   "source": [
    "# Use this function before splitting the data\n",
    "df = preprocess_data(df)"
   ],
   "id": "d05878428f2b50b6",
   "outputs": [],
   "execution_count": 142
  },
  {
   "metadata": {
    "ExecuteTime": {
     "end_time": "2024-08-22T05:49:29.842983Z",
     "start_time": "2024-08-22T05:49:29.838746Z"
    }
   },
   "cell_type": "code",
   "source": [
    "# Use the selected features\n",
    "selected_features = ['upper_band', 'Open Price', 'High Price', 'lower_band', 'WAP', 'Lag_1_Close', 'middle_band', 'Lag_2_Close', 'Low Price']\n",
    "X = df[selected_features]\n",
    "y = df['Close Price']"
   ],
   "id": "63c1bdd54ca4f42e",
   "outputs": [],
   "execution_count": 143
  },
  {
   "metadata": {
    "ExecuteTime": {
     "end_time": "2024-08-22T05:49:30.451791Z",
     "start_time": "2024-08-22T05:49:30.448562Z"
    }
   },
   "cell_type": "code",
   "source": [
    "# Function to create sequences for LSTM\n",
    "def create_sequences(X, y, time_steps=1):\n",
    "    Xs, ys = [], []\n",
    "    for i in range(len(X) - time_steps):\n",
    "        Xs.append(X.iloc[i:(i + time_steps)].values)\n",
    "        ys.append(y.iloc[i + time_steps])\n",
    "    return np.array(Xs), np.array(ys)"
   ],
   "id": "a61e46333522b77e",
   "outputs": [],
   "execution_count": 144
  },
  {
   "metadata": {
    "ExecuteTime": {
     "end_time": "2024-08-22T05:49:38.894392Z",
     "start_time": "2024-08-22T05:49:38.892384Z"
    }
   },
   "cell_type": "code",
   "source": [
    "# Time series cross-validation\n",
    "tscv = TimeSeriesSplit(n_splits=5)"
   ],
   "id": "a1f2e34166fd576b",
   "outputs": [],
   "execution_count": 145
  },
  {
   "metadata": {
    "ExecuteTime": {
     "end_time": "2024-08-22T05:49:39.347676Z",
     "start_time": "2024-08-22T05:49:39.344582Z"
    }
   },
   "cell_type": "code",
   "source": [
    "# Model evaluation function\n",
    "def evaluate_model(y_true, y_pred, model_name):\n",
    "    rmse = np.sqrt(mean_squared_error(y_true, y_pred))\n",
    "    mape = mean_absolute_percentage_error(y_true, y_pred)\n",
    "    print(f\"{model_name} - RMSE: {rmse:.2f}, MAPE: {mape:.2%}\")\n",
    "    return rmse, mape"
   ],
   "id": "cb28474deadebf4d",
   "outputs": [],
   "execution_count": 146
  },
  {
   "metadata": {
    "ExecuteTime": {
     "end_time": "2024-08-22T05:49:39.854870Z",
     "start_time": "2024-08-22T05:49:39.852591Z"
    }
   },
   "cell_type": "code",
   "source": [
    "# XGBoost model\n",
    "def train_xgboost(X_train, y_train, X_test, y_test):\n",
    "    model = xgb.XGBRegressor(objective='reg:squarederror', n_estimators=100)\n",
    "    model.fit(X_train, y_train)\n",
    "    predictions = model.predict(X_test)\n",
    "    return evaluate_model(y_test, predictions, \"XGBoost\")"
   ],
   "id": "a1d5512f6cf6977b",
   "outputs": [],
   "execution_count": 147
  },
  {
   "metadata": {
    "ExecuteTime": {
     "end_time": "2024-08-22T05:49:44.327895Z",
     "start_time": "2024-08-22T05:49:44.324861Z"
    }
   },
   "cell_type": "code",
   "source": [
    "from tensorflow.keras.models import Model\n",
    "from tensorflow.keras.layers import Input, LSTM, Dense, Dropout\n",
    "\n",
    "def train_lstm(X_train, y_train, X_test, y_test):\n",
    "    X_train, y_train = create_sequences(X_train, y_train)\n",
    "    X_test, y_test = create_sequences(X_test, y_test)\n",
    "    \n",
    "    input_shape = (X_train.shape[1], X_train.shape[2])\n",
    "    inputs = Input(shape=input_shape)\n",
    "    x = LSTM(50, activation='relu')(inputs)\n",
    "    x = Dropout(0.2)(x)\n",
    "    outputs = Dense(1)(x)\n",
    "    \n",
    "    model = Model(inputs=inputs, outputs=outputs)\n",
    "    model.compile(optimizer='adam', loss='mse')\n",
    "    model.fit(X_train, y_train, epochs=50, batch_size=32, validation_split=0.1, verbose=0)\n",
    "    predictions = model.predict(X_test).flatten()\n",
    "    return evaluate_model(y_test, predictions, \"LSTM\")"
   ],
   "id": "1373035ba314b18a",
   "outputs": [],
   "execution_count": 148
  },
  {
   "metadata": {
    "ExecuteTime": {
     "end_time": "2024-08-22T05:49:44.854677Z",
     "start_time": "2024-08-22T05:49:44.851491Z"
    }
   },
   "cell_type": "code",
   "source": [
    "def train_arima(train, test):\n",
    "    # Ensure train and test have a DatetimeIndex\n",
    "    train = pd.Series(train.values, index=pd.date_range(start=train.index[0], periods=len(train), freq='D'))\n",
    "    test = pd.Series(test.values, index=pd.date_range(start=test.index[0], periods=len(test), freq='D'))\n",
    "    \n",
    "    # Perform Augmented Dickey-Fuller test\n",
    "    result = adfuller(train)\n",
    "    print(f'ADF Statistic: {result[0]}')\n",
    "    print(f'p-value: {result[1]}')\n",
    "    \n",
    "    # Use auto_arima to find the best parameters\n",
    "    model = auto_arima(train, start_p=1, start_q=1, max_p=3, max_q=3, m=1,\n",
    "                       start_P=0, seasonal=False, d=1, D=1, trace=True,\n",
    "                       error_action='ignore', suppress_warnings=True, stepwise=True)\n",
    "    \n",
    "    # Fit the ARIMA model\n",
    "    model_fit = model.fit(train)\n",
    "    \n",
    "    # Make predictions\n",
    "    predictions = model_fit.predict(n_periods=len(test), index=test.index)\n",
    "    return evaluate_model(test, predictions, \"ARIMA\")"
   ],
   "id": "3a906d4e82d31409",
   "outputs": [],
   "execution_count": 149
  },
  {
   "metadata": {
    "ExecuteTime": {
     "end_time": "2024-08-22T05:49:48.507394Z",
     "start_time": "2024-08-22T05:49:48.501659Z"
    }
   },
   "cell_type": "code",
   "source": [
    "def train_hybrid(X_train, y_train, X_test, y_test):\n",
    "    # Ensure y_train and y_test have a DatetimeIndex\n",
    "    y_train = pd.Series(y_train.values, index=pd.date_range(start=y_train.index[0], periods=len(y_train), freq='D'))\n",
    "    y_test = pd.Series(y_test.values, index=pd.date_range(start=y_test.index[0], periods=len(y_test), freq='D'))\n",
    "    \n",
    "    # ARIMA component\n",
    "    try:\n",
    "        arima_model = auto_arima(y_train, start_p=1, start_q=1, max_p=3, max_q=3, m=1,\n",
    "                                 start_P=0, seasonal=False, d=1, D=1, trace=True,\n",
    "                                 error_action='ignore', suppress_warnings=True, stepwise=True)\n",
    "        arima_model_fit = arima_model.fit(y_train)\n",
    "        arima_predictions = arima_model_fit.predict(n_periods=len(y_test), index=y_test.index)\n",
    "    except Exception as e:\n",
    "        print(f\"ARIMA model failed: {e}\")\n",
    "        arima_predictions = np.zeros(len(y_test))\n",
    "    \n",
    "    # XGBoost component\n",
    "    xgb_model = xgb.XGBRegressor(objective='reg:squarederror', n_estimators=100)\n",
    "    xgb_model.fit(X_train, y_train - arima_model_fit.predict(n_periods=len(y_train), index=y_train.index))\n",
    "    xgb_predictions = xgb_model.predict(X_test)\n",
    "    \n",
    "    # Combine predictions\n",
    "    hybrid_predictions = arima_predictions + xgb_predictions\n",
    "    return evaluate_model(y_test, hybrid_predictions, \"ARIMA + XGBoost\")"
   ],
   "id": "34ef617475c78192",
   "outputs": [],
   "execution_count": 150
  },
  {
   "metadata": {
    "ExecuteTime": {
     "end_time": "2024-08-22T05:50:09.406583Z",
     "start_time": "2024-08-22T05:50:09.401501Z"
    }
   },
   "cell_type": "code",
   "source": [
    "def train_models(X_train, y_train, X_test, y_test):\n",
    "    results = {}\n",
    "    \n",
    "    try:\n",
    "        results['XGBoost'] = train_xgboost(X_train, y_train, X_test, y_test)\n",
    "    except Exception as e:\n",
    "        print(f\"XGBoost training failed: {e}\")\n",
    "    \n",
    "    try:\n",
    "        results['LSTM'] = train_lstm(X_train, y_train, X_test, y_test)\n",
    "    except Exception as e:\n",
    "        print(f\"LSTM training failed: {e}\")\n",
    "    \n",
    "    try:\n",
    "        results['ARIMA'] = train_arima(y_train, y_test)\n",
    "    except Exception as e:\n",
    "        print(f\"ARIMA training failed: {e}\")\n",
    "    \n",
    "    try:\n",
    "        results['Hybrid'] = train_hybrid(X_train, y_train, X_test, y_test)\n",
    "    except Exception as e:\n",
    "        print(f\"Hybrid model training failed: {e}\")\n",
    "    \n",
    "    return results"
   ],
   "id": "63e3669a5f89763e",
   "outputs": [],
   "execution_count": 151
  },
  {
   "metadata": {
    "ExecuteTime": {
     "end_time": "2024-08-22T05:52:24.647615Z",
     "start_time": "2024-08-22T05:52:24.644628Z"
    }
   },
   "cell_type": "code",
   "source": [
    "# Initialize lists to store results\n",
    "all_results = []"
   ],
   "id": "76a3070286f1510c",
   "outputs": [],
   "execution_count": 152
  },
  {
   "metadata": {
    "ExecuteTime": {
     "end_time": "2024-08-22T05:52:45.563571Z",
     "start_time": "2024-08-22T05:52:34.752067Z"
    }
   },
   "cell_type": "code",
   "source": [
    "# Perform cross-validation\n",
    "for train_index, test_index in tscv.split(X):\n",
    "    X_train, X_test = X.iloc[train_index], X.iloc[test_index]\n",
    "    y_train, y_test = y.iloc[train_index], y.iloc[test_index]\n",
    "    \n",
    "    # Scale the features\n",
    "    scaler = StandardScaler()\n",
    "    X_train_scaled = scaler.fit_transform(X_train)\n",
    "    X_test_scaled = scaler.transform(X_test)\n",
    "    \n",
    "    # Train and evaluate models\n",
    "    results = train_models(X_train_scaled, y_train, X_test_scaled, y_test)\n",
    "    all_results.append(results)"
   ],
   "id": "39e74bbf8fb43064",
   "outputs": [
    {
     "name": "stdout",
     "output_type": "stream",
     "text": [
      "XGBoost - RMSE: 62.97, MAPE: 3.65%\n",
      "LSTM training failed: 'numpy.ndarray' object has no attribute 'iloc'\n",
      "ADF Statistic: -1.3774396825647435\n",
      "p-value: 0.5930427649972415\n",
      "Performing stepwise search to minimize aic\n",
      " ARIMA(1,1,1)(0,0,0)[0] intercept   : AIC=3885.004, Time=0.04 sec\n",
      " ARIMA(0,1,0)(0,0,0)[0] intercept   : AIC=3882.321, Time=0.01 sec\n",
      " ARIMA(1,1,0)(0,0,0)[0] intercept   : AIC=3883.261, Time=0.02 sec\n",
      " ARIMA(0,1,1)(0,0,0)[0] intercept   : AIC=3883.316, Time=0.03 sec\n",
      " ARIMA(0,1,0)(0,0,0)[0]             : AIC=3880.375, Time=0.01 sec\n",
      "\n",
      "Best model:  ARIMA(0,1,0)(0,0,0)[0]          \n",
      "Total fit time: 0.105 seconds\n",
      "ARIMA - RMSE: 430.59, MAPE: 37.60%\n",
      "Performing stepwise search to minimize aic\n",
      " ARIMA(1,1,1)(0,0,0)[0] intercept   : AIC=3885.004, Time=0.04 sec\n",
      " ARIMA(0,1,0)(0,0,0)[0] intercept   : AIC=3882.321, Time=0.01 sec\n",
      " ARIMA(1,1,0)(0,0,0)[0] intercept   : AIC=3883.261, Time=0.02 sec\n",
      " ARIMA(0,1,1)(0,0,0)[0] intercept   : AIC=3883.316, Time=0.03 sec\n",
      " ARIMA(0,1,0)(0,0,0)[0]             : AIC=3880.375, Time=0.01 sec\n",
      "\n",
      "Best model:  ARIMA(0,1,0)(0,0,0)[0]          \n",
      "Total fit time: 0.111 seconds\n",
      "Hybrid model training failed: [11:22:35] /Users/runner/work/xgboost/xgboost/src/data/data.cc:514: Check failed: valid: Label contains NaN, infinity or a value too large.\n",
      "Stack trace:\n",
      "  [bt] (0) 1   libxgboost.dylib                    0x000000016abb858c dmlc::LogMessageFatal::~LogMessageFatal() + 124\n",
      "  [bt] (1) 2   libxgboost.dylib                    0x000000016ad164ec xgboost::MetaInfo::SetInfoFromHost(xgboost::Context const&, xgboost::StringView, xgboost::Json) + 2776\n",
      "  [bt] (2) 3   libxgboost.dylib                    0x000000016ad15888 xgboost::MetaInfo::SetInfo(xgboost::Context const&, xgboost::StringView, xgboost::StringView) + 464\n",
      "  [bt] (3) 4   libxgboost.dylib                    0x000000016abcfbc4 XGDMatrixSetInfoFromInterface + 228\n",
      "  [bt] (4) 5   libffi.8.dylib                      0x00000001044c404c ffi_call_SYSV + 76\n",
      "  [bt] (5) 6   libffi.8.dylib                      0x00000001044c1834 ffi_call_int + 1404\n",
      "  [bt] (6) 7   _ctypes.cpython-310-darwin.so       0x000000010551011c _ctypes_callproc + 944\n",
      "  [bt] (7) 8   _ctypes.cpython-310-darwin.so       0x000000010550a3f8 PyCFuncPtr_call + 228\n",
      "  [bt] (8) 9   python3.10                          0x0000000102c0efc4 _PyEval_EvalFrameDefault + 58924\n",
      "\n",
      "\n",
      "XGBoost - RMSE: 300.80, MAPE: 6.11%\n",
      "LSTM training failed: 'numpy.ndarray' object has no attribute 'iloc'\n",
      "ADF Statistic: -2.3184594614539367\n",
      "p-value: 0.16608352385066522\n",
      "Performing stepwise search to minimize aic\n",
      " ARIMA(1,1,1)(0,0,0)[0] intercept   : AIC=7888.800, Time=0.36 sec\n",
      " ARIMA(0,1,0)(0,0,0)[0] intercept   : AIC=7885.700, Time=0.01 sec\n",
      " ARIMA(1,1,0)(0,0,0)[0] intercept   : AIC=7887.424, Time=0.02 sec\n",
      " ARIMA(0,1,1)(0,0,0)[0] intercept   : AIC=7887.439, Time=0.05 sec\n",
      " ARIMA(0,1,0)(0,0,0)[0]             : AIC=7883.761, Time=0.01 sec\n",
      "\n",
      "Best model:  ARIMA(0,1,0)(0,0,0)[0]          \n",
      "Total fit time: 0.448 seconds\n",
      "ARIMA - RMSE: 575.71, MAPE: 23.49%\n",
      "Performing stepwise search to minimize aic\n",
      " ARIMA(1,1,1)(0,0,0)[0] intercept   : AIC=7888.800, Time=0.15 sec\n",
      " ARIMA(0,1,0)(0,0,0)[0] intercept   : AIC=7885.700, Time=0.01 sec\n",
      " ARIMA(1,1,0)(0,0,0)[0] intercept   : AIC=7887.424, Time=0.02 sec\n",
      " ARIMA(0,1,1)(0,0,0)[0] intercept   : AIC=7887.439, Time=0.04 sec\n",
      " ARIMA(0,1,0)(0,0,0)[0]             : AIC=7883.761, Time=0.01 sec\n",
      "\n",
      "Best model:  ARIMA(0,1,0)(0,0,0)[0]          \n",
      "Total fit time: 0.233 seconds\n",
      "Hybrid model training failed: [11:22:36] /Users/runner/work/xgboost/xgboost/src/data/data.cc:514: Check failed: valid: Label contains NaN, infinity or a value too large.\n",
      "Stack trace:\n",
      "  [bt] (0) 1   libxgboost.dylib                    0x000000016abb858c dmlc::LogMessageFatal::~LogMessageFatal() + 124\n",
      "  [bt] (1) 2   libxgboost.dylib                    0x000000016ad164ec xgboost::MetaInfo::SetInfoFromHost(xgboost::Context const&, xgboost::StringView, xgboost::Json) + 2776\n",
      "  [bt] (2) 3   libxgboost.dylib                    0x000000016ad15888 xgboost::MetaInfo::SetInfo(xgboost::Context const&, xgboost::StringView, xgboost::StringView) + 464\n",
      "  [bt] (3) 4   libxgboost.dylib                    0x000000016abcfbc4 XGDMatrixSetInfoFromInterface + 228\n",
      "  [bt] (4) 5   libffi.8.dylib                      0x00000001044c404c ffi_call_SYSV + 76\n",
      "  [bt] (5) 6   libffi.8.dylib                      0x00000001044c1834 ffi_call_int + 1404\n",
      "  [bt] (6) 7   _ctypes.cpython-310-darwin.so       0x000000010551011c _ctypes_callproc + 944\n",
      "  [bt] (7) 8   _ctypes.cpython-310-darwin.so       0x000000010550a3f8 PyCFuncPtr_call + 228\n",
      "  [bt] (8) 9   python3.10                          0x0000000102c0efc4 _PyEval_EvalFrameDefault + 58924\n",
      "\n",
      "\n",
      "XGBoost - RMSE: 1213.96, MAPE: 25.99%\n",
      "LSTM training failed: 'numpy.ndarray' object has no attribute 'iloc'\n",
      "ADF Statistic: -0.6140279686833985\n",
      "p-value: 0.8677806714887779\n",
      "Performing stepwise search to minimize aic\n",
      " ARIMA(1,1,1)(0,0,0)[0] intercept   : AIC=11952.475, Time=0.41 sec\n",
      " ARIMA(0,1,0)(0,0,0)[0] intercept   : AIC=11953.586, Time=0.01 sec\n",
      " ARIMA(1,1,0)(0,0,0)[0] intercept   : AIC=11951.280, Time=0.02 sec\n",
      " ARIMA(0,1,1)(0,0,0)[0] intercept   : AIC=11951.604, Time=0.06 sec\n",
      " ARIMA(0,1,0)(0,0,0)[0]             : AIC=11952.496, Time=0.01 sec\n",
      " ARIMA(2,1,0)(0,0,0)[0] intercept   : AIC=11951.685, Time=0.03 sec\n",
      " ARIMA(2,1,1)(0,0,0)[0] intercept   : AIC=11952.236, Time=0.25 sec\n",
      " ARIMA(1,1,0)(0,0,0)[0]             : AIC=11950.090, Time=0.01 sec\n",
      " ARIMA(2,1,0)(0,0,0)[0]             : AIC=11950.442, Time=0.02 sec\n",
      " ARIMA(1,1,1)(0,0,0)[0]             : AIC=11951.224, Time=0.05 sec\n",
      " ARIMA(0,1,1)(0,0,0)[0]             : AIC=11950.426, Time=0.03 sec\n",
      " ARIMA(2,1,1)(0,0,0)[0]             : AIC=11950.998, Time=0.07 sec\n",
      "\n",
      "Best model:  ARIMA(1,1,0)(0,0,0)[0]          \n",
      "Total fit time: 0.992 seconds\n",
      "ARIMA - RMSE: 1303.94, MAPE: 28.83%\n",
      "Performing stepwise search to minimize aic\n",
      " ARIMA(1,1,1)(0,0,0)[0] intercept   : AIC=11952.475, Time=0.28 sec\n",
      " ARIMA(0,1,0)(0,0,0)[0] intercept   : AIC=11953.586, Time=0.01 sec\n",
      " ARIMA(1,1,0)(0,0,0)[0] intercept   : AIC=11951.280, Time=0.02 sec\n",
      " ARIMA(0,1,1)(0,0,0)[0] intercept   : AIC=11951.604, Time=0.06 sec\n",
      " ARIMA(0,1,0)(0,0,0)[0]             : AIC=11952.496, Time=0.01 sec\n",
      " ARIMA(2,1,0)(0,0,0)[0] intercept   : AIC=11951.685, Time=0.03 sec\n",
      " ARIMA(2,1,1)(0,0,0)[0] intercept   : AIC=11952.236, Time=0.25 sec\n",
      " ARIMA(1,1,0)(0,0,0)[0]             : AIC=11950.090, Time=0.01 sec\n",
      " ARIMA(2,1,0)(0,0,0)[0]             : AIC=11950.442, Time=0.02 sec\n",
      " ARIMA(1,1,1)(0,0,0)[0]             : AIC=11951.224, Time=0.05 sec\n",
      " ARIMA(0,1,1)(0,0,0)[0]             : AIC=11950.426, Time=0.03 sec\n",
      " ARIMA(2,1,1)(0,0,0)[0]             : AIC=11950.998, Time=0.07 sec\n",
      "\n",
      "Best model:  ARIMA(1,1,0)(0,0,0)[0]          \n",
      "Total fit time: 0.865 seconds\n",
      "Hybrid model training failed: [11:22:38] /Users/runner/work/xgboost/xgboost/src/data/data.cc:514: Check failed: valid: Label contains NaN, infinity or a value too large.\n",
      "Stack trace:\n",
      "  [bt] (0) 1   libxgboost.dylib                    0x000000016abb858c dmlc::LogMessageFatal::~LogMessageFatal() + 124\n",
      "  [bt] (1) 2   libxgboost.dylib                    0x000000016ad164ec xgboost::MetaInfo::SetInfoFromHost(xgboost::Context const&, xgboost::StringView, xgboost::Json) + 2776\n",
      "  [bt] (2) 3   libxgboost.dylib                    0x000000016ad15888 xgboost::MetaInfo::SetInfo(xgboost::Context const&, xgboost::StringView, xgboost::StringView) + 464\n",
      "  [bt] (3) 4   libxgboost.dylib                    0x000000016abcfbc4 XGDMatrixSetInfoFromInterface + 228\n",
      "  [bt] (4) 5   libffi.8.dylib                      0x00000001044c404c ffi_call_SYSV + 76\n",
      "  [bt] (5) 6   libffi.8.dylib                      0x00000001044c1834 ffi_call_int + 1404\n",
      "  [bt] (6) 7   _ctypes.cpython-310-darwin.so       0x000000010551011c _ctypes_callproc + 944\n",
      "  [bt] (7) 8   _ctypes.cpython-310-darwin.so       0x000000010550a3f8 PyCFuncPtr_call + 228\n",
      "  [bt] (8) 9   python3.10                          0x0000000102c0efc4 _PyEval_EvalFrameDefault + 58924\n",
      "\n",
      "\n",
      "XGBoost - RMSE: 57.88, MAPE: 1.42%\n",
      "LSTM training failed: 'numpy.ndarray' object has no attribute 'iloc'\n",
      "ADF Statistic: 0.2592986344373012\n",
      "p-value: 0.9753981067031244\n",
      "Performing stepwise search to minimize aic\n",
      " ARIMA(1,1,1)(0,0,0)[0] intercept   : AIC=16735.120, Time=0.35 sec\n",
      " ARIMA(0,1,0)(0,0,0)[0] intercept   : AIC=16733.463, Time=0.02 sec\n",
      " ARIMA(1,1,0)(0,0,0)[0] intercept   : AIC=16733.777, Time=0.03 sec\n",
      " ARIMA(0,1,1)(0,0,0)[0] intercept   : AIC=16733.809, Time=0.06 sec\n",
      " ARIMA(0,1,0)(0,0,0)[0]             : AIC=16733.655, Time=0.01 sec\n",
      "\n",
      "Best model:  ARIMA(0,1,0)(0,0,0)[0] intercept\n",
      "Total fit time: 0.472 seconds\n",
      "ARIMA - RMSE: 1783.73, MAPE: 71.23%\n",
      "Performing stepwise search to minimize aic\n",
      " ARIMA(1,1,1)(0,0,0)[0] intercept   : AIC=16735.120, Time=0.18 sec\n",
      " ARIMA(0,1,0)(0,0,0)[0] intercept   : AIC=16733.463, Time=0.02 sec\n",
      " ARIMA(1,1,0)(0,0,0)[0] intercept   : AIC=16733.777, Time=0.03 sec\n",
      " ARIMA(0,1,1)(0,0,0)[0] intercept   : AIC=16733.809, Time=0.06 sec\n",
      " ARIMA(0,1,0)(0,0,0)[0]             : AIC=16733.655, Time=0.01 sec\n",
      "\n",
      "Best model:  ARIMA(0,1,0)(0,0,0)[0] intercept\n",
      "Total fit time: 0.303 seconds\n",
      "Hybrid model training failed: [11:22:39] /Users/runner/work/xgboost/xgboost/src/data/data.cc:514: Check failed: valid: Label contains NaN, infinity or a value too large.\n",
      "Stack trace:\n",
      "  [bt] (0) 1   libxgboost.dylib                    0x000000016abb858c dmlc::LogMessageFatal::~LogMessageFatal() + 124\n",
      "  [bt] (1) 2   libxgboost.dylib                    0x000000016ad164ec xgboost::MetaInfo::SetInfoFromHost(xgboost::Context const&, xgboost::StringView, xgboost::Json) + 2776\n",
      "  [bt] (2) 3   libxgboost.dylib                    0x000000016ad15888 xgboost::MetaInfo::SetInfo(xgboost::Context const&, xgboost::StringView, xgboost::StringView) + 464\n",
      "  [bt] (3) 4   libxgboost.dylib                    0x000000016abcfbc4 XGDMatrixSetInfoFromInterface + 228\n",
      "  [bt] (4) 5   libffi.8.dylib                      0x00000001044c404c ffi_call_SYSV + 76\n",
      "  [bt] (5) 6   libffi.8.dylib                      0x00000001044c1834 ffi_call_int + 1404\n",
      "  [bt] (6) 7   _ctypes.cpython-310-darwin.so       0x000000010551011c _ctypes_callproc + 944\n",
      "  [bt] (7) 8   _ctypes.cpython-310-darwin.so       0x000000010550a3f8 PyCFuncPtr_call + 228\n",
      "  [bt] (8) 9   python3.10                          0x0000000102c0efc4 _PyEval_EvalFrameDefault + 58924\n",
      "\n",
      "\n",
      "XGBoost - RMSE: 248.21, MAPE: 53.63%\n",
      "LSTM training failed: 'numpy.ndarray' object has no attribute 'iloc'\n",
      "ADF Statistic: -1.4854285444148887\n",
      "p-value: 0.5407069210105253\n",
      "Performing stepwise search to minimize aic\n",
      " ARIMA(1,1,1)(0,0,0)[0] intercept   : AIC=21841.652, Time=0.37 sec\n",
      " ARIMA(0,1,0)(0,0,0)[0] intercept   : AIC=21856.892, Time=0.02 sec\n",
      " ARIMA(1,1,0)(0,0,0)[0] intercept   : AIC=21850.488, Time=0.04 sec\n",
      " ARIMA(0,1,1)(0,0,0)[0] intercept   : AIC=21851.115, Time=0.05 sec\n",
      " ARIMA(0,1,0)(0,0,0)[0]             : AIC=21854.899, Time=0.01 sec\n",
      " ARIMA(2,1,1)(0,0,0)[0] intercept   : AIC=21843.621, Time=0.34 sec\n",
      " ARIMA(1,1,2)(0,0,0)[0] intercept   : AIC=21843.612, Time=0.39 sec\n",
      " ARIMA(0,1,2)(0,0,0)[0] intercept   : AIC=21850.199, Time=0.07 sec\n",
      " ARIMA(2,1,0)(0,0,0)[0] intercept   : AIC=21849.032, Time=0.05 sec\n",
      " ARIMA(2,1,2)(0,0,0)[0] intercept   : AIC=inf, Time=0.49 sec\n",
      " ARIMA(1,1,1)(0,0,0)[0]             : AIC=21839.655, Time=0.10 sec\n",
      " ARIMA(0,1,1)(0,0,0)[0]             : AIC=21849.121, Time=0.03 sec\n",
      " ARIMA(1,1,0)(0,0,0)[0]             : AIC=21848.494, Time=0.02 sec\n",
      " ARIMA(2,1,1)(0,0,0)[0]             : AIC=21841.618, Time=0.17 sec\n",
      " ARIMA(1,1,2)(0,0,0)[0]             : AIC=21841.615, Time=0.17 sec\n",
      " ARIMA(0,1,2)(0,0,0)[0]             : AIC=21848.204, Time=0.04 sec\n",
      " ARIMA(2,1,0)(0,0,0)[0]             : AIC=21847.037, Time=0.03 sec\n",
      " ARIMA(2,1,2)(0,0,0)[0]             : AIC=inf, Time=0.26 sec\n",
      "\n",
      "Best model:  ARIMA(1,1,1)(0,0,0)[0]          \n",
      "Total fit time: 2.661 seconds\n",
      "ARIMA - RMSE: 955.73, MAPE: 210.64%\n",
      "Performing stepwise search to minimize aic\n",
      " ARIMA(1,1,1)(0,0,0)[0] intercept   : AIC=21841.652, Time=0.22 sec\n",
      " ARIMA(0,1,0)(0,0,0)[0] intercept   : AIC=21856.892, Time=0.02 sec\n",
      " ARIMA(1,1,0)(0,0,0)[0] intercept   : AIC=21850.488, Time=0.04 sec\n",
      " ARIMA(0,1,1)(0,0,0)[0] intercept   : AIC=21851.115, Time=0.05 sec\n",
      " ARIMA(0,1,0)(0,0,0)[0]             : AIC=21854.899, Time=0.01 sec\n",
      " ARIMA(2,1,1)(0,0,0)[0] intercept   : AIC=21843.621, Time=0.32 sec\n",
      " ARIMA(1,1,2)(0,0,0)[0] intercept   : AIC=21843.612, Time=0.37 sec\n",
      " ARIMA(0,1,2)(0,0,0)[0] intercept   : AIC=21850.199, Time=0.07 sec\n",
      " ARIMA(2,1,0)(0,0,0)[0] intercept   : AIC=21849.032, Time=0.05 sec\n",
      " ARIMA(2,1,2)(0,0,0)[0] intercept   : AIC=inf, Time=0.52 sec\n",
      " ARIMA(1,1,1)(0,0,0)[0]             : AIC=21839.655, Time=0.10 sec\n",
      " ARIMA(0,1,1)(0,0,0)[0]             : AIC=21849.121, Time=0.03 sec\n",
      " ARIMA(1,1,0)(0,0,0)[0]             : AIC=21848.494, Time=0.02 sec\n",
      " ARIMA(2,1,1)(0,0,0)[0]             : AIC=21841.618, Time=0.17 sec\n",
      " ARIMA(1,1,2)(0,0,0)[0]             : AIC=21841.615, Time=0.16 sec\n",
      " ARIMA(0,1,2)(0,0,0)[0]             : AIC=21848.204, Time=0.04 sec\n",
      " ARIMA(2,1,0)(0,0,0)[0]             : AIC=21847.037, Time=0.03 sec\n",
      " ARIMA(2,1,2)(0,0,0)[0]             : AIC=inf, Time=0.26 sec\n",
      "\n",
      "Best model:  ARIMA(1,1,1)(0,0,0)[0]          \n",
      "Total fit time: 2.467 seconds\n",
      "Hybrid model training failed: [11:22:45] /Users/runner/work/xgboost/xgboost/src/data/data.cc:514: Check failed: valid: Label contains NaN, infinity or a value too large.\n",
      "Stack trace:\n",
      "  [bt] (0) 1   libxgboost.dylib                    0x000000016abb858c dmlc::LogMessageFatal::~LogMessageFatal() + 124\n",
      "  [bt] (1) 2   libxgboost.dylib                    0x000000016ad164ec xgboost::MetaInfo::SetInfoFromHost(xgboost::Context const&, xgboost::StringView, xgboost::Json) + 2776\n",
      "  [bt] (2) 3   libxgboost.dylib                    0x000000016ad15888 xgboost::MetaInfo::SetInfo(xgboost::Context const&, xgboost::StringView, xgboost::StringView) + 464\n",
      "  [bt] (3) 4   libxgboost.dylib                    0x000000016abcfbc4 XGDMatrixSetInfoFromInterface + 228\n",
      "  [bt] (4) 5   libffi.8.dylib                      0x00000001044c404c ffi_call_SYSV + 76\n",
      "  [bt] (5) 6   libffi.8.dylib                      0x00000001044c1834 ffi_call_int + 1404\n",
      "  [bt] (6) 7   _ctypes.cpython-310-darwin.so       0x000000010551011c _ctypes_callproc + 944\n",
      "  [bt] (7) 8   _ctypes.cpython-310-darwin.so       0x000000010550a3f8 PyCFuncPtr_call + 228\n",
      "  [bt] (8) 9   python3.10                          0x0000000102c0efc4 _PyEval_EvalFrameDefault + 58924\n",
      "\n",
      "\n"
     ]
    }
   ],
   "execution_count": 153
  },
  {
   "metadata": {
    "ExecuteTime": {
     "end_time": "2024-08-22T05:52:52.100426Z",
     "start_time": "2024-08-22T05:52:52.097287Z"
    }
   },
   "cell_type": "code",
   "source": [
    "# Aggregate results\n",
    "avg_results = {}\n",
    "for model in ['XGBoost', 'LSTM', 'ARIMA', 'Hybrid']:\n",
    "    model_results = [fold[model] for fold in all_results if model in fold]\n",
    "    if model_results:\n",
    "        avg_rmse = np.mean([result[0] for result in model_results])\n",
    "        avg_mape = np.mean([result[1] for result in model_results])\n",
    "        avg_results[model] = (avg_rmse, avg_mape)"
   ],
   "id": "85599d2847becaeb",
   "outputs": [],
   "execution_count": 154
  },
  {
   "metadata": {
    "ExecuteTime": {
     "end_time": "2024-08-22T05:52:57.898274Z",
     "start_time": "2024-08-22T05:52:57.895159Z"
    }
   },
   "cell_type": "code",
   "source": [
    "# Print average results\n",
    "print(\"\\nAverage Results:\")\n",
    "for model, (rmse, mape) in avg_results.items(): \n",
    "    print(f\"{model} - Avg RMSE: {rmse:.2f}, Avg MAPE: {mape:.2%}\")"
   ],
   "id": "23fa432f429db7b7",
   "outputs": [
    {
     "name": "stdout",
     "output_type": "stream",
     "text": [
      "\n",
      "Average Results:\n",
      "XGBoost - Avg RMSE: 376.77, Avg MAPE: 18.16%\n",
      "ARIMA - Avg RMSE: 1009.94, Avg MAPE: 74.36%\n"
     ]
    }
   ],
   "execution_count": 155
  },
  {
   "metadata": {
    "ExecuteTime": {
     "end_time": "2024-08-22T05:53:27.407555Z",
     "start_time": "2024-08-22T05:53:27.257568Z"
    }
   },
   "cell_type": "code",
   "source": [
    "# Visualize results\n",
    "plt.figure(figsize=(12, 6))\n",
    "models = list(avg_results.keys())\n",
    "rmse_values = [avg_results[model][0] for model in models]\n",
    "mape_values = [avg_results[model][1] for model in models]\n",
    "\n",
    "x = range(len(models))\n",
    "width = 0.35\n",
    "\n",
    "fig, ax1 = plt.subplots(figsize=(12, 6))\n",
    "ax2 = ax1.twinx()\n",
    "\n",
    "rects1 = ax1.bar([i - width/2 for i in x], rmse_values, width, label='RMSE', color='b', alpha=0.7)\n",
    "rects2 = ax2.bar([i + width/2 for i in x], mape_values, width, label='MAPE', color='r', alpha=0.7)\n",
    "\n",
    "ax1.set_xlabel('Models')\n",
    "ax1.set_ylabel('RMSE')\n",
    "ax2.set_ylabel('MAPE')\n",
    "ax1.set_title('Model Performance Comparison')\n",
    "ax1.set_xticks(x)\n",
    "ax1.set_xticklabels(models)\n",
    "\n",
    "ax1.legend(loc='upper left')\n",
    "ax2.legend(loc='upper right')\n",
    "\n",
    "fig.tight_layout()\n",
    "plt.show()"
   ],
   "id": "5ee7e569f25adb84",
   "outputs": [
    {
     "data": {
      "text/plain": [
       "<Figure size 1200x600 with 0 Axes>"
      ]
     },
     "metadata": {},
     "output_type": "display_data"
    },
    {
     "data": {
      "text/plain": [
       "<Figure size 1200x600 with 2 Axes>"
      ],
      "image/png": "[encoded data removed]"
     },
     "metadata": {},
     "output_type": "display_data"
    }
   ],
   "execution_count": 157
  }
 ],
 "metadata": {
  "kernelspec": {
   "display_name": "Python 3",
   "language": "python",
   "name": "python3"
  },
  "language_info": {
   "codemirror_mode": {
    "name": "ipython",
    "version": 2
   },
   "file_extension": ".py",
   "mimetype": "text/x-python",
   "name": "python",
   "nbconvert_exporter": "python",
   "pygments_lexer": "ipython2",
   "version": "2.7.6"
  }
 },
 "nbformat": 4,
 "nbformat_minor": 5
}
